{
 "cells": [
  {
   "cell_type": "markdown",
   "metadata": {},
   "source": [
    "# Seattle Airbnb Data Analysis"
   ]
  },
  {
   "cell_type": "markdown",
   "metadata": {},
   "source": [
    "This analysis following the CRISP-DM process is part of the Udacity Data Scientist Nanodegree Program. The available data is part of the Airbnb Inside initiative, and describes the listing activity of homestays in Seattle, USA, in 2015."
   ]
  },
  {
   "cell_type": "code",
   "execution_count": 1,
   "metadata": {},
   "outputs": [],
   "source": [
    "# import statements\n",
    "import pandas as pd\n",
    "import numpy as np\n",
    "\n",
    "%matplotlib inline\n",
    "import matplotlib.pyplot as plt"
   ]
  },
  {
   "cell_type": "markdown",
   "metadata": {},
   "source": [
    "## 1. Business Understanding"
   ]
  },
  {
   "cell_type": "markdown",
   "metadata": {},
   "source": [
    "The analysis will be based around the following three questions:\n",
    "- Q_I: How does the time of the year influence the price of listings?\n",
    "- Q_II: How does the location influence the price of listings?\n",
    "- Q_III: How big is the discount for weekly and montly prices?"
   ]
  },
  {
   "cell_type": "markdown",
   "metadata": {},
   "source": [
    "All those questions are relevant esspecailly relevant to Airbnb hosts. Hosts can better estimate a good but reasonable price for their property and get better insights how this price is determined on the market."
   ]
  },
  {
   "cell_type": "markdown",
   "metadata": {},
   "source": [
    "## 2. Data Unerstanding"
   ]
  },
  {
   "cell_type": "markdown",
   "metadata": {},
   "source": [
    "The following Airbnb activity is included in this Seattle dataset:\n",
    "- Listings, including full descriptions and average review score\n",
    "- Reviews, including unique id for each reviewer and detailed comments\n",
    "- Calendar, including listing id and the price and availability for that day"
   ]
  },
  {
   "cell_type": "code",
   "execution_count": 2,
   "metadata": {},
   "outputs": [
    {
     "data": {
      "text/html": [
       "<div>\n",
       "<style scoped>\n",
       "    .dataframe tbody tr th:only-of-type {\n",
       "        vertical-align: middle;\n",
       "    }\n",
       "\n",
       "    .dataframe tbody tr th {\n",
       "        vertical-align: top;\n",
       "    }\n",
       "\n",
       "    .dataframe thead th {\n",
       "        text-align: right;\n",
       "    }\n",
       "</style>\n",
       "<table border=\"1\" class=\"dataframe\">\n",
       "  <thead>\n",
       "    <tr style=\"text-align: right;\">\n",
       "      <th></th>\n",
       "      <th>listing_id</th>\n",
       "      <th>date</th>\n",
       "      <th>available</th>\n",
       "      <th>price</th>\n",
       "    </tr>\n",
       "  </thead>\n",
       "  <tbody>\n",
       "    <tr>\n",
       "      <th>0</th>\n",
       "      <td>241032</td>\n",
       "      <td>2016-01-04</td>\n",
       "      <td>t</td>\n",
       "      <td>$85.00</td>\n",
       "    </tr>\n",
       "    <tr>\n",
       "      <th>1</th>\n",
       "      <td>241032</td>\n",
       "      <td>2016-01-05</td>\n",
       "      <td>t</td>\n",
       "      <td>$85.00</td>\n",
       "    </tr>\n",
       "    <tr>\n",
       "      <th>2</th>\n",
       "      <td>241032</td>\n",
       "      <td>2016-01-06</td>\n",
       "      <td>f</td>\n",
       "      <td>NaN</td>\n",
       "    </tr>\n",
       "    <tr>\n",
       "      <th>3</th>\n",
       "      <td>241032</td>\n",
       "      <td>2016-01-07</td>\n",
       "      <td>f</td>\n",
       "      <td>NaN</td>\n",
       "    </tr>\n",
       "    <tr>\n",
       "      <th>4</th>\n",
       "      <td>241032</td>\n",
       "      <td>2016-01-08</td>\n",
       "      <td>f</td>\n",
       "      <td>NaN</td>\n",
       "    </tr>\n",
       "  </tbody>\n",
       "</table>\n",
       "</div>"
      ],
      "text/plain": [
       "   listing_id        date available   price\n",
       "0      241032  2016-01-04         t  $85.00\n",
       "1      241032  2016-01-05         t  $85.00\n",
       "2      241032  2016-01-06         f     NaN\n",
       "3      241032  2016-01-07         f     NaN\n",
       "4      241032  2016-01-08         f     NaN"
      ]
     },
     "execution_count": 2,
     "metadata": {},
     "output_type": "execute_result"
    }
   ],
   "source": [
    "#read in data calendar data\n",
    "calendar = pd.read_csv('seattle_airbnb_data/calendar.csv')\n",
    "calendar.head()"
   ]
  },
  {
   "cell_type": "code",
   "execution_count": 3,
   "metadata": {},
   "outputs": [
    {
     "data": {
      "text/plain": [
       "(1393570, 4)"
      ]
     },
     "execution_count": 3,
     "metadata": {},
     "output_type": "execute_result"
    }
   ],
   "source": [
    "calendar.shape"
   ]
  },
  {
   "cell_type": "code",
   "execution_count": 4,
   "metadata": {},
   "outputs": [
    {
     "data": {
      "text/html": [
       "<div>\n",
       "<style scoped>\n",
       "    .dataframe tbody tr th:only-of-type {\n",
       "        vertical-align: middle;\n",
       "    }\n",
       "\n",
       "    .dataframe tbody tr th {\n",
       "        vertical-align: top;\n",
       "    }\n",
       "\n",
       "    .dataframe thead th {\n",
       "        text-align: right;\n",
       "    }\n",
       "</style>\n",
       "<table border=\"1\" class=\"dataframe\">\n",
       "  <thead>\n",
       "    <tr style=\"text-align: right;\">\n",
       "      <th></th>\n",
       "      <th>id</th>\n",
       "      <th>listing_url</th>\n",
       "      <th>scrape_id</th>\n",
       "      <th>last_scraped</th>\n",
       "      <th>name</th>\n",
       "      <th>summary</th>\n",
       "      <th>space</th>\n",
       "      <th>description</th>\n",
       "      <th>experiences_offered</th>\n",
       "      <th>neighborhood_overview</th>\n",
       "      <th>...</th>\n",
       "      <th>review_scores_value</th>\n",
       "      <th>requires_license</th>\n",
       "      <th>license</th>\n",
       "      <th>jurisdiction_names</th>\n",
       "      <th>instant_bookable</th>\n",
       "      <th>cancellation_policy</th>\n",
       "      <th>require_guest_profile_picture</th>\n",
       "      <th>require_guest_phone_verification</th>\n",
       "      <th>calculated_host_listings_count</th>\n",
       "      <th>reviews_per_month</th>\n",
       "    </tr>\n",
       "  </thead>\n",
       "  <tbody>\n",
       "    <tr>\n",
       "      <th>0</th>\n",
       "      <td>241032</td>\n",
       "      <td>https://www.airbnb.com/rooms/241032</td>\n",
       "      <td>20160104002432</td>\n",
       "      <td>2016-01-04</td>\n",
       "      <td>Stylish Queen Anne Apartment</td>\n",
       "      <td>NaN</td>\n",
       "      <td>Make your self at home in this charming one-be...</td>\n",
       "      <td>Make your self at home in this charming one-be...</td>\n",
       "      <td>none</td>\n",
       "      <td>NaN</td>\n",
       "      <td>...</td>\n",
       "      <td>10.0</td>\n",
       "      <td>f</td>\n",
       "      <td>NaN</td>\n",
       "      <td>WASHINGTON</td>\n",
       "      <td>f</td>\n",
       "      <td>moderate</td>\n",
       "      <td>f</td>\n",
       "      <td>f</td>\n",
       "      <td>2</td>\n",
       "      <td>4.07</td>\n",
       "    </tr>\n",
       "    <tr>\n",
       "      <th>1</th>\n",
       "      <td>953595</td>\n",
       "      <td>https://www.airbnb.com/rooms/953595</td>\n",
       "      <td>20160104002432</td>\n",
       "      <td>2016-01-04</td>\n",
       "      <td>Bright &amp; Airy Queen Anne Apartment</td>\n",
       "      <td>Chemically sensitive? We've removed the irrita...</td>\n",
       "      <td>Beautiful, hypoallergenic apartment in an extr...</td>\n",
       "      <td>Chemically sensitive? We've removed the irrita...</td>\n",
       "      <td>none</td>\n",
       "      <td>Queen Anne is a wonderful, truly functional vi...</td>\n",
       "      <td>...</td>\n",
       "      <td>10.0</td>\n",
       "      <td>f</td>\n",
       "      <td>NaN</td>\n",
       "      <td>WASHINGTON</td>\n",
       "      <td>f</td>\n",
       "      <td>strict</td>\n",
       "      <td>t</td>\n",
       "      <td>t</td>\n",
       "      <td>6</td>\n",
       "      <td>1.48</td>\n",
       "    </tr>\n",
       "    <tr>\n",
       "      <th>2</th>\n",
       "      <td>3308979</td>\n",
       "      <td>https://www.airbnb.com/rooms/3308979</td>\n",
       "      <td>20160104002432</td>\n",
       "      <td>2016-01-04</td>\n",
       "      <td>New Modern House-Amazing water view</td>\n",
       "      <td>New modern house built in 2013.  Spectacular s...</td>\n",
       "      <td>Our house is modern, light and fresh with a wa...</td>\n",
       "      <td>New modern house built in 2013.  Spectacular s...</td>\n",
       "      <td>none</td>\n",
       "      <td>Upper Queen Anne is a charming neighborhood fu...</td>\n",
       "      <td>...</td>\n",
       "      <td>10.0</td>\n",
       "      <td>f</td>\n",
       "      <td>NaN</td>\n",
       "      <td>WASHINGTON</td>\n",
       "      <td>f</td>\n",
       "      <td>strict</td>\n",
       "      <td>f</td>\n",
       "      <td>f</td>\n",
       "      <td>2</td>\n",
       "      <td>1.15</td>\n",
       "    </tr>\n",
       "    <tr>\n",
       "      <th>3</th>\n",
       "      <td>7421966</td>\n",
       "      <td>https://www.airbnb.com/rooms/7421966</td>\n",
       "      <td>20160104002432</td>\n",
       "      <td>2016-01-04</td>\n",
       "      <td>Queen Anne Chateau</td>\n",
       "      <td>A charming apartment that sits atop Queen Anne...</td>\n",
       "      <td>NaN</td>\n",
       "      <td>A charming apartment that sits atop Queen Anne...</td>\n",
       "      <td>none</td>\n",
       "      <td>NaN</td>\n",
       "      <td>...</td>\n",
       "      <td>NaN</td>\n",
       "      <td>f</td>\n",
       "      <td>NaN</td>\n",
       "      <td>WASHINGTON</td>\n",
       "      <td>f</td>\n",
       "      <td>flexible</td>\n",
       "      <td>f</td>\n",
       "      <td>f</td>\n",
       "      <td>1</td>\n",
       "      <td>NaN</td>\n",
       "    </tr>\n",
       "    <tr>\n",
       "      <th>4</th>\n",
       "      <td>278830</td>\n",
       "      <td>https://www.airbnb.com/rooms/278830</td>\n",
       "      <td>20160104002432</td>\n",
       "      <td>2016-01-04</td>\n",
       "      <td>Charming craftsman 3 bdm house</td>\n",
       "      <td>Cozy family craftman house in beautiful neighb...</td>\n",
       "      <td>Cozy family craftman house in beautiful neighb...</td>\n",
       "      <td>Cozy family craftman house in beautiful neighb...</td>\n",
       "      <td>none</td>\n",
       "      <td>We are in the beautiful neighborhood of Queen ...</td>\n",
       "      <td>...</td>\n",
       "      <td>9.0</td>\n",
       "      <td>f</td>\n",
       "      <td>NaN</td>\n",
       "      <td>WASHINGTON</td>\n",
       "      <td>f</td>\n",
       "      <td>strict</td>\n",
       "      <td>f</td>\n",
       "      <td>f</td>\n",
       "      <td>1</td>\n",
       "      <td>0.89</td>\n",
       "    </tr>\n",
       "  </tbody>\n",
       "</table>\n",
       "<p>5 rows × 92 columns</p>\n",
       "</div>"
      ],
      "text/plain": [
       "        id                           listing_url       scrape_id last_scraped  \\\n",
       "0   241032   https://www.airbnb.com/rooms/241032  20160104002432   2016-01-04   \n",
       "1   953595   https://www.airbnb.com/rooms/953595  20160104002432   2016-01-04   \n",
       "2  3308979  https://www.airbnb.com/rooms/3308979  20160104002432   2016-01-04   \n",
       "3  7421966  https://www.airbnb.com/rooms/7421966  20160104002432   2016-01-04   \n",
       "4   278830   https://www.airbnb.com/rooms/278830  20160104002432   2016-01-04   \n",
       "\n",
       "                                  name  \\\n",
       "0         Stylish Queen Anne Apartment   \n",
       "1   Bright & Airy Queen Anne Apartment   \n",
       "2  New Modern House-Amazing water view   \n",
       "3                   Queen Anne Chateau   \n",
       "4       Charming craftsman 3 bdm house   \n",
       "\n",
       "                                             summary  \\\n",
       "0                                                NaN   \n",
       "1  Chemically sensitive? We've removed the irrita...   \n",
       "2  New modern house built in 2013.  Spectacular s...   \n",
       "3  A charming apartment that sits atop Queen Anne...   \n",
       "4  Cozy family craftman house in beautiful neighb...   \n",
       "\n",
       "                                               space  \\\n",
       "0  Make your self at home in this charming one-be...   \n",
       "1  Beautiful, hypoallergenic apartment in an extr...   \n",
       "2  Our house is modern, light and fresh with a wa...   \n",
       "3                                                NaN   \n",
       "4  Cozy family craftman house in beautiful neighb...   \n",
       "\n",
       "                                         description experiences_offered  \\\n",
       "0  Make your self at home in this charming one-be...                none   \n",
       "1  Chemically sensitive? We've removed the irrita...                none   \n",
       "2  New modern house built in 2013.  Spectacular s...                none   \n",
       "3  A charming apartment that sits atop Queen Anne...                none   \n",
       "4  Cozy family craftman house in beautiful neighb...                none   \n",
       "\n",
       "                               neighborhood_overview  ... review_scores_value  \\\n",
       "0                                                NaN  ...                10.0   \n",
       "1  Queen Anne is a wonderful, truly functional vi...  ...                10.0   \n",
       "2  Upper Queen Anne is a charming neighborhood fu...  ...                10.0   \n",
       "3                                                NaN  ...                 NaN   \n",
       "4  We are in the beautiful neighborhood of Queen ...  ...                 9.0   \n",
       "\n",
       "  requires_license license jurisdiction_names instant_bookable  \\\n",
       "0                f     NaN         WASHINGTON                f   \n",
       "1                f     NaN         WASHINGTON                f   \n",
       "2                f     NaN         WASHINGTON                f   \n",
       "3                f     NaN         WASHINGTON                f   \n",
       "4                f     NaN         WASHINGTON                f   \n",
       "\n",
       "  cancellation_policy  require_guest_profile_picture  \\\n",
       "0            moderate                              f   \n",
       "1              strict                              t   \n",
       "2              strict                              f   \n",
       "3            flexible                              f   \n",
       "4              strict                              f   \n",
       "\n",
       "  require_guest_phone_verification calculated_host_listings_count  \\\n",
       "0                                f                              2   \n",
       "1                                t                              6   \n",
       "2                                f                              2   \n",
       "3                                f                              1   \n",
       "4                                f                              1   \n",
       "\n",
       "  reviews_per_month  \n",
       "0              4.07  \n",
       "1              1.48  \n",
       "2              1.15  \n",
       "3               NaN  \n",
       "4              0.89  \n",
       "\n",
       "[5 rows x 92 columns]"
      ]
     },
     "execution_count": 4,
     "metadata": {},
     "output_type": "execute_result"
    }
   ],
   "source": [
    "#read in data listings data\n",
    "listings = pd.read_csv('seattle_airbnb_data/listings.csv')\n",
    "listings.head()"
   ]
  },
  {
   "cell_type": "code",
   "execution_count": 5,
   "metadata": {},
   "outputs": [
    {
     "data": {
      "text/plain": [
       "(3818, 92)"
      ]
     },
     "execution_count": 5,
     "metadata": {},
     "output_type": "execute_result"
    }
   ],
   "source": [
    "#explore the listings dataset deeper due to its great size\n",
    "listings.shape"
   ]
  },
  {
   "cell_type": "code",
   "execution_count": 6,
   "metadata": {},
   "outputs": [
    {
     "data": {
      "text/html": [
       "<div>\n",
       "<style scoped>\n",
       "    .dataframe tbody tr th:only-of-type {\n",
       "        vertical-align: middle;\n",
       "    }\n",
       "\n",
       "    .dataframe tbody tr th {\n",
       "        vertical-align: top;\n",
       "    }\n",
       "\n",
       "    .dataframe thead th {\n",
       "        text-align: right;\n",
       "    }\n",
       "</style>\n",
       "<table border=\"1\" class=\"dataframe\">\n",
       "  <thead>\n",
       "    <tr style=\"text-align: right;\">\n",
       "      <th></th>\n",
       "      <th>id</th>\n",
       "      <th>listing_url</th>\n",
       "      <th>scrape_id</th>\n",
       "      <th>last_scraped</th>\n",
       "      <th>name</th>\n",
       "      <th>summary</th>\n",
       "      <th>space</th>\n",
       "      <th>description</th>\n",
       "      <th>experiences_offered</th>\n",
       "      <th>neighborhood_overview</th>\n",
       "      <th>...</th>\n",
       "      <th>review_scores_value</th>\n",
       "      <th>requires_license</th>\n",
       "      <th>license</th>\n",
       "      <th>jurisdiction_names</th>\n",
       "      <th>instant_bookable</th>\n",
       "      <th>cancellation_policy</th>\n",
       "      <th>require_guest_profile_picture</th>\n",
       "      <th>require_guest_phone_verification</th>\n",
       "      <th>calculated_host_listings_count</th>\n",
       "      <th>reviews_per_month</th>\n",
       "    </tr>\n",
       "  </thead>\n",
       "  <tbody>\n",
       "    <tr>\n",
       "      <th>count</th>\n",
       "      <td>3.818000e+03</td>\n",
       "      <td>3818</td>\n",
       "      <td>3.818000e+03</td>\n",
       "      <td>3818</td>\n",
       "      <td>3818</td>\n",
       "      <td>3641</td>\n",
       "      <td>3249</td>\n",
       "      <td>3818</td>\n",
       "      <td>3818</td>\n",
       "      <td>2786</td>\n",
       "      <td>...</td>\n",
       "      <td>3162.000000</td>\n",
       "      <td>3818</td>\n",
       "      <td>0.0</td>\n",
       "      <td>3818</td>\n",
       "      <td>3818</td>\n",
       "      <td>3818</td>\n",
       "      <td>3818</td>\n",
       "      <td>3818</td>\n",
       "      <td>3818.000000</td>\n",
       "      <td>3191.000000</td>\n",
       "    </tr>\n",
       "    <tr>\n",
       "      <th>unique</th>\n",
       "      <td>NaN</td>\n",
       "      <td>3818</td>\n",
       "      <td>NaN</td>\n",
       "      <td>1</td>\n",
       "      <td>3792</td>\n",
       "      <td>3478</td>\n",
       "      <td>3119</td>\n",
       "      <td>3742</td>\n",
       "      <td>1</td>\n",
       "      <td>2506</td>\n",
       "      <td>...</td>\n",
       "      <td>NaN</td>\n",
       "      <td>1</td>\n",
       "      <td>NaN</td>\n",
       "      <td>1</td>\n",
       "      <td>2</td>\n",
       "      <td>3</td>\n",
       "      <td>2</td>\n",
       "      <td>2</td>\n",
       "      <td>NaN</td>\n",
       "      <td>NaN</td>\n",
       "    </tr>\n",
       "    <tr>\n",
       "      <th>top</th>\n",
       "      <td>NaN</td>\n",
       "      <td>https://www.airbnb.com/rooms/4454264</td>\n",
       "      <td>NaN</td>\n",
       "      <td>2016-01-04</td>\n",
       "      <td>Capitol Hill Apartment</td>\n",
       "      <td>This is a modern fully-furnished studio apartm...</td>\n",
       "      <td>*Note: This fall, there will be major renovati...</td>\n",
       "      <td>Our space is a mix of a hostel and a home. We ...</td>\n",
       "      <td>none</td>\n",
       "      <td>Wallingford is a mostly-residential neighborho...</td>\n",
       "      <td>...</td>\n",
       "      <td>NaN</td>\n",
       "      <td>f</td>\n",
       "      <td>NaN</td>\n",
       "      <td>WASHINGTON</td>\n",
       "      <td>f</td>\n",
       "      <td>strict</td>\n",
       "      <td>f</td>\n",
       "      <td>f</td>\n",
       "      <td>NaN</td>\n",
       "      <td>NaN</td>\n",
       "    </tr>\n",
       "    <tr>\n",
       "      <th>freq</th>\n",
       "      <td>NaN</td>\n",
       "      <td>1</td>\n",
       "      <td>NaN</td>\n",
       "      <td>3818</td>\n",
       "      <td>3</td>\n",
       "      <td>15</td>\n",
       "      <td>14</td>\n",
       "      <td>10</td>\n",
       "      <td>3818</td>\n",
       "      <td>17</td>\n",
       "      <td>...</td>\n",
       "      <td>NaN</td>\n",
       "      <td>3818</td>\n",
       "      <td>NaN</td>\n",
       "      <td>3818</td>\n",
       "      <td>3227</td>\n",
       "      <td>1417</td>\n",
       "      <td>3497</td>\n",
       "      <td>3443</td>\n",
       "      <td>NaN</td>\n",
       "      <td>NaN</td>\n",
       "    </tr>\n",
       "    <tr>\n",
       "      <th>mean</th>\n",
       "      <td>5.550111e+06</td>\n",
       "      <td>NaN</td>\n",
       "      <td>2.016010e+13</td>\n",
       "      <td>NaN</td>\n",
       "      <td>NaN</td>\n",
       "      <td>NaN</td>\n",
       "      <td>NaN</td>\n",
       "      <td>NaN</td>\n",
       "      <td>NaN</td>\n",
       "      <td>NaN</td>\n",
       "      <td>...</td>\n",
       "      <td>9.452245</td>\n",
       "      <td>NaN</td>\n",
       "      <td>NaN</td>\n",
       "      <td>NaN</td>\n",
       "      <td>NaN</td>\n",
       "      <td>NaN</td>\n",
       "      <td>NaN</td>\n",
       "      <td>NaN</td>\n",
       "      <td>2.946307</td>\n",
       "      <td>2.078919</td>\n",
       "    </tr>\n",
       "    <tr>\n",
       "      <th>std</th>\n",
       "      <td>2.962660e+06</td>\n",
       "      <td>NaN</td>\n",
       "      <td>0.000000e+00</td>\n",
       "      <td>NaN</td>\n",
       "      <td>NaN</td>\n",
       "      <td>NaN</td>\n",
       "      <td>NaN</td>\n",
       "      <td>NaN</td>\n",
       "      <td>NaN</td>\n",
       "      <td>NaN</td>\n",
       "      <td>...</td>\n",
       "      <td>0.750259</td>\n",
       "      <td>NaN</td>\n",
       "      <td>NaN</td>\n",
       "      <td>NaN</td>\n",
       "      <td>NaN</td>\n",
       "      <td>NaN</td>\n",
       "      <td>NaN</td>\n",
       "      <td>NaN</td>\n",
       "      <td>5.893029</td>\n",
       "      <td>1.822348</td>\n",
       "    </tr>\n",
       "    <tr>\n",
       "      <th>min</th>\n",
       "      <td>3.335000e+03</td>\n",
       "      <td>NaN</td>\n",
       "      <td>2.016010e+13</td>\n",
       "      <td>NaN</td>\n",
       "      <td>NaN</td>\n",
       "      <td>NaN</td>\n",
       "      <td>NaN</td>\n",
       "      <td>NaN</td>\n",
       "      <td>NaN</td>\n",
       "      <td>NaN</td>\n",
       "      <td>...</td>\n",
       "      <td>2.000000</td>\n",
       "      <td>NaN</td>\n",
       "      <td>NaN</td>\n",
       "      <td>NaN</td>\n",
       "      <td>NaN</td>\n",
       "      <td>NaN</td>\n",
       "      <td>NaN</td>\n",
       "      <td>NaN</td>\n",
       "      <td>1.000000</td>\n",
       "      <td>0.020000</td>\n",
       "    </tr>\n",
       "    <tr>\n",
       "      <th>25%</th>\n",
       "      <td>3.258256e+06</td>\n",
       "      <td>NaN</td>\n",
       "      <td>2.016010e+13</td>\n",
       "      <td>NaN</td>\n",
       "      <td>NaN</td>\n",
       "      <td>NaN</td>\n",
       "      <td>NaN</td>\n",
       "      <td>NaN</td>\n",
       "      <td>NaN</td>\n",
       "      <td>NaN</td>\n",
       "      <td>...</td>\n",
       "      <td>9.000000</td>\n",
       "      <td>NaN</td>\n",
       "      <td>NaN</td>\n",
       "      <td>NaN</td>\n",
       "      <td>NaN</td>\n",
       "      <td>NaN</td>\n",
       "      <td>NaN</td>\n",
       "      <td>NaN</td>\n",
       "      <td>1.000000</td>\n",
       "      <td>0.695000</td>\n",
       "    </tr>\n",
       "    <tr>\n",
       "      <th>50%</th>\n",
       "      <td>6.118244e+06</td>\n",
       "      <td>NaN</td>\n",
       "      <td>2.016010e+13</td>\n",
       "      <td>NaN</td>\n",
       "      <td>NaN</td>\n",
       "      <td>NaN</td>\n",
       "      <td>NaN</td>\n",
       "      <td>NaN</td>\n",
       "      <td>NaN</td>\n",
       "      <td>NaN</td>\n",
       "      <td>...</td>\n",
       "      <td>10.000000</td>\n",
       "      <td>NaN</td>\n",
       "      <td>NaN</td>\n",
       "      <td>NaN</td>\n",
       "      <td>NaN</td>\n",
       "      <td>NaN</td>\n",
       "      <td>NaN</td>\n",
       "      <td>NaN</td>\n",
       "      <td>1.000000</td>\n",
       "      <td>1.540000</td>\n",
       "    </tr>\n",
       "    <tr>\n",
       "      <th>75%</th>\n",
       "      <td>8.035127e+06</td>\n",
       "      <td>NaN</td>\n",
       "      <td>2.016010e+13</td>\n",
       "      <td>NaN</td>\n",
       "      <td>NaN</td>\n",
       "      <td>NaN</td>\n",
       "      <td>NaN</td>\n",
       "      <td>NaN</td>\n",
       "      <td>NaN</td>\n",
       "      <td>NaN</td>\n",
       "      <td>...</td>\n",
       "      <td>10.000000</td>\n",
       "      <td>NaN</td>\n",
       "      <td>NaN</td>\n",
       "      <td>NaN</td>\n",
       "      <td>NaN</td>\n",
       "      <td>NaN</td>\n",
       "      <td>NaN</td>\n",
       "      <td>NaN</td>\n",
       "      <td>2.000000</td>\n",
       "      <td>3.000000</td>\n",
       "    </tr>\n",
       "    <tr>\n",
       "      <th>max</th>\n",
       "      <td>1.034016e+07</td>\n",
       "      <td>NaN</td>\n",
       "      <td>2.016010e+13</td>\n",
       "      <td>NaN</td>\n",
       "      <td>NaN</td>\n",
       "      <td>NaN</td>\n",
       "      <td>NaN</td>\n",
       "      <td>NaN</td>\n",
       "      <td>NaN</td>\n",
       "      <td>NaN</td>\n",
       "      <td>...</td>\n",
       "      <td>10.000000</td>\n",
       "      <td>NaN</td>\n",
       "      <td>NaN</td>\n",
       "      <td>NaN</td>\n",
       "      <td>NaN</td>\n",
       "      <td>NaN</td>\n",
       "      <td>NaN</td>\n",
       "      <td>NaN</td>\n",
       "      <td>37.000000</td>\n",
       "      <td>12.150000</td>\n",
       "    </tr>\n",
       "  </tbody>\n",
       "</table>\n",
       "<p>11 rows × 92 columns</p>\n",
       "</div>"
      ],
      "text/plain": [
       "                  id                           listing_url     scrape_id  \\\n",
       "count   3.818000e+03                                  3818  3.818000e+03   \n",
       "unique           NaN                                  3818           NaN   \n",
       "top              NaN  https://www.airbnb.com/rooms/4454264           NaN   \n",
       "freq             NaN                                     1           NaN   \n",
       "mean    5.550111e+06                                   NaN  2.016010e+13   \n",
       "std     2.962660e+06                                   NaN  0.000000e+00   \n",
       "min     3.335000e+03                                   NaN  2.016010e+13   \n",
       "25%     3.258256e+06                                   NaN  2.016010e+13   \n",
       "50%     6.118244e+06                                   NaN  2.016010e+13   \n",
       "75%     8.035127e+06                                   NaN  2.016010e+13   \n",
       "max     1.034016e+07                                   NaN  2.016010e+13   \n",
       "\n",
       "       last_scraped                    name  \\\n",
       "count          3818                    3818   \n",
       "unique            1                    3792   \n",
       "top      2016-01-04  Capitol Hill Apartment   \n",
       "freq           3818                       3   \n",
       "mean            NaN                     NaN   \n",
       "std             NaN                     NaN   \n",
       "min             NaN                     NaN   \n",
       "25%             NaN                     NaN   \n",
       "50%             NaN                     NaN   \n",
       "75%             NaN                     NaN   \n",
       "max             NaN                     NaN   \n",
       "\n",
       "                                                  summary  \\\n",
       "count                                                3641   \n",
       "unique                                               3478   \n",
       "top     This is a modern fully-furnished studio apartm...   \n",
       "freq                                                   15   \n",
       "mean                                                  NaN   \n",
       "std                                                   NaN   \n",
       "min                                                   NaN   \n",
       "25%                                                   NaN   \n",
       "50%                                                   NaN   \n",
       "75%                                                   NaN   \n",
       "max                                                   NaN   \n",
       "\n",
       "                                                    space  \\\n",
       "count                                                3249   \n",
       "unique                                               3119   \n",
       "top     *Note: This fall, there will be major renovati...   \n",
       "freq                                                   14   \n",
       "mean                                                  NaN   \n",
       "std                                                   NaN   \n",
       "min                                                   NaN   \n",
       "25%                                                   NaN   \n",
       "50%                                                   NaN   \n",
       "75%                                                   NaN   \n",
       "max                                                   NaN   \n",
       "\n",
       "                                              description experiences_offered  \\\n",
       "count                                                3818                3818   \n",
       "unique                                               3742                   1   \n",
       "top     Our space is a mix of a hostel and a home. We ...                none   \n",
       "freq                                                   10                3818   \n",
       "mean                                                  NaN                 NaN   \n",
       "std                                                   NaN                 NaN   \n",
       "min                                                   NaN                 NaN   \n",
       "25%                                                   NaN                 NaN   \n",
       "50%                                                   NaN                 NaN   \n",
       "75%                                                   NaN                 NaN   \n",
       "max                                                   NaN                 NaN   \n",
       "\n",
       "                                    neighborhood_overview  ...  \\\n",
       "count                                                2786  ...   \n",
       "unique                                               2506  ...   \n",
       "top     Wallingford is a mostly-residential neighborho...  ...   \n",
       "freq                                                   17  ...   \n",
       "mean                                                  NaN  ...   \n",
       "std                                                   NaN  ...   \n",
       "min                                                   NaN  ...   \n",
       "25%                                                   NaN  ...   \n",
       "50%                                                   NaN  ...   \n",
       "75%                                                   NaN  ...   \n",
       "max                                                   NaN  ...   \n",
       "\n",
       "       review_scores_value requires_license license jurisdiction_names  \\\n",
       "count          3162.000000             3818     0.0               3818   \n",
       "unique                 NaN                1     NaN                  1   \n",
       "top                    NaN                f     NaN         WASHINGTON   \n",
       "freq                   NaN             3818     NaN               3818   \n",
       "mean              9.452245              NaN     NaN                NaN   \n",
       "std               0.750259              NaN     NaN                NaN   \n",
       "min               2.000000              NaN     NaN                NaN   \n",
       "25%               9.000000              NaN     NaN                NaN   \n",
       "50%              10.000000              NaN     NaN                NaN   \n",
       "75%              10.000000              NaN     NaN                NaN   \n",
       "max              10.000000              NaN     NaN                NaN   \n",
       "\n",
       "       instant_bookable cancellation_policy  require_guest_profile_picture  \\\n",
       "count              3818                3818                           3818   \n",
       "unique                2                   3                              2   \n",
       "top                   f              strict                              f   \n",
       "freq               3227                1417                           3497   \n",
       "mean                NaN                 NaN                            NaN   \n",
       "std                 NaN                 NaN                            NaN   \n",
       "min                 NaN                 NaN                            NaN   \n",
       "25%                 NaN                 NaN                            NaN   \n",
       "50%                 NaN                 NaN                            NaN   \n",
       "75%                 NaN                 NaN                            NaN   \n",
       "max                 NaN                 NaN                            NaN   \n",
       "\n",
       "       require_guest_phone_verification calculated_host_listings_count  \\\n",
       "count                              3818                    3818.000000   \n",
       "unique                                2                            NaN   \n",
       "top                                   f                            NaN   \n",
       "freq                               3443                            NaN   \n",
       "mean                                NaN                       2.946307   \n",
       "std                                 NaN                       5.893029   \n",
       "min                                 NaN                       1.000000   \n",
       "25%                                 NaN                       1.000000   \n",
       "50%                                 NaN                       1.000000   \n",
       "75%                                 NaN                       2.000000   \n",
       "max                                 NaN                      37.000000   \n",
       "\n",
       "       reviews_per_month  \n",
       "count        3191.000000  \n",
       "unique               NaN  \n",
       "top                  NaN  \n",
       "freq                 NaN  \n",
       "mean            2.078919  \n",
       "std             1.822348  \n",
       "min             0.020000  \n",
       "25%             0.695000  \n",
       "50%             1.540000  \n",
       "75%             3.000000  \n",
       "max            12.150000  \n",
       "\n",
       "[11 rows x 92 columns]"
      ]
     },
     "execution_count": 6,
     "metadata": {},
     "output_type": "execute_result"
    }
   ],
   "source": [
    "listings.describe(include='all')"
   ]
  },
  {
   "cell_type": "code",
   "execution_count": 7,
   "metadata": {},
   "outputs": [
    {
     "data": {
      "text/plain": [
       "Index(['id', 'listing_url', 'scrape_id', 'last_scraped', 'name', 'summary',\n",
       "       'space', 'description', 'experiences_offered', 'neighborhood_overview',\n",
       "       'notes', 'transit', 'thumbnail_url', 'medium_url', 'picture_url',\n",
       "       'xl_picture_url', 'host_id', 'host_url', 'host_name', 'host_since',\n",
       "       'host_location', 'host_about', 'host_response_time',\n",
       "       'host_response_rate', 'host_acceptance_rate', 'host_is_superhost',\n",
       "       'host_thumbnail_url', 'host_picture_url', 'host_neighbourhood',\n",
       "       'host_listings_count', 'host_total_listings_count',\n",
       "       'host_verifications', 'host_has_profile_pic', 'host_identity_verified',\n",
       "       'street', 'neighbourhood', 'neighbourhood_cleansed',\n",
       "       'neighbourhood_group_cleansed', 'city', 'state', 'zipcode', 'market',\n",
       "       'smart_location', 'country_code', 'country', 'latitude', 'longitude',\n",
       "       'is_location_exact', 'property_type', 'room_type', 'accommodates',\n",
       "       'bathrooms', 'bedrooms', 'beds', 'bed_type', 'amenities', 'square_feet',\n",
       "       'price', 'weekly_price', 'monthly_price', 'security_deposit',\n",
       "       'cleaning_fee', 'guests_included', 'extra_people', 'minimum_nights',\n",
       "       'maximum_nights', 'calendar_updated', 'has_availability',\n",
       "       'availability_30', 'availability_60', 'availability_90',\n",
       "       'availability_365', 'calendar_last_scraped', 'number_of_reviews',\n",
       "       'first_review', 'last_review', 'review_scores_rating',\n",
       "       'review_scores_accuracy', 'review_scores_cleanliness',\n",
       "       'review_scores_checkin', 'review_scores_communication',\n",
       "       'review_scores_location', 'review_scores_value', 'requires_license',\n",
       "       'license', 'jurisdiction_names', 'instant_bookable',\n",
       "       'cancellation_policy', 'require_guest_profile_picture',\n",
       "       'require_guest_phone_verification', 'calculated_host_listings_count',\n",
       "       'reviews_per_month'],\n",
       "      dtype='object')"
      ]
     },
     "execution_count": 7,
     "metadata": {},
     "output_type": "execute_result"
    }
   ],
   "source": [
    "listings.columns"
   ]
  },
  {
   "cell_type": "code",
   "execution_count": 8,
   "metadata": {},
   "outputs": [
    {
     "data": {
      "text/html": [
       "<div>\n",
       "<style scoped>\n",
       "    .dataframe tbody tr th:only-of-type {\n",
       "        vertical-align: middle;\n",
       "    }\n",
       "\n",
       "    .dataframe tbody tr th {\n",
       "        vertical-align: top;\n",
       "    }\n",
       "\n",
       "    .dataframe thead th {\n",
       "        text-align: right;\n",
       "    }\n",
       "</style>\n",
       "<table border=\"1\" class=\"dataframe\">\n",
       "  <thead>\n",
       "    <tr style=\"text-align: right;\">\n",
       "      <th></th>\n",
       "      <th>price</th>\n",
       "      <th>weekly_price</th>\n",
       "      <th>monthly_price</th>\n",
       "    </tr>\n",
       "  </thead>\n",
       "  <tbody>\n",
       "    <tr>\n",
       "      <th>0</th>\n",
       "      <td>$85.00</td>\n",
       "      <td>NaN</td>\n",
       "      <td>NaN</td>\n",
       "    </tr>\n",
       "    <tr>\n",
       "      <th>1</th>\n",
       "      <td>$150.00</td>\n",
       "      <td>$1,000.00</td>\n",
       "      <td>$3,000.00</td>\n",
       "    </tr>\n",
       "    <tr>\n",
       "      <th>2</th>\n",
       "      <td>$975.00</td>\n",
       "      <td>NaN</td>\n",
       "      <td>NaN</td>\n",
       "    </tr>\n",
       "    <tr>\n",
       "      <th>3</th>\n",
       "      <td>$100.00</td>\n",
       "      <td>$650.00</td>\n",
       "      <td>$2,300.00</td>\n",
       "    </tr>\n",
       "    <tr>\n",
       "      <th>4</th>\n",
       "      <td>$450.00</td>\n",
       "      <td>NaN</td>\n",
       "      <td>NaN</td>\n",
       "    </tr>\n",
       "    <tr>\n",
       "      <th>...</th>\n",
       "      <td>...</td>\n",
       "      <td>...</td>\n",
       "      <td>...</td>\n",
       "    </tr>\n",
       "    <tr>\n",
       "      <th>3813</th>\n",
       "      <td>$359.00</td>\n",
       "      <td>NaN</td>\n",
       "      <td>NaN</td>\n",
       "    </tr>\n",
       "    <tr>\n",
       "      <th>3814</th>\n",
       "      <td>$79.00</td>\n",
       "      <td>NaN</td>\n",
       "      <td>NaN</td>\n",
       "    </tr>\n",
       "    <tr>\n",
       "      <th>3815</th>\n",
       "      <td>$93.00</td>\n",
       "      <td>$450.00</td>\n",
       "      <td>NaN</td>\n",
       "    </tr>\n",
       "    <tr>\n",
       "      <th>3816</th>\n",
       "      <td>$99.00</td>\n",
       "      <td>NaN</td>\n",
       "      <td>NaN</td>\n",
       "    </tr>\n",
       "    <tr>\n",
       "      <th>3817</th>\n",
       "      <td>$87.00</td>\n",
       "      <td>NaN</td>\n",
       "      <td>NaN</td>\n",
       "    </tr>\n",
       "  </tbody>\n",
       "</table>\n",
       "<p>3818 rows × 3 columns</p>\n",
       "</div>"
      ],
      "text/plain": [
       "        price weekly_price monthly_price\n",
       "0      $85.00          NaN           NaN\n",
       "1     $150.00    $1,000.00     $3,000.00\n",
       "2     $975.00          NaN           NaN\n",
       "3     $100.00      $650.00     $2,300.00\n",
       "4     $450.00          NaN           NaN\n",
       "...       ...          ...           ...\n",
       "3813  $359.00          NaN           NaN\n",
       "3814   $79.00          NaN           NaN\n",
       "3815   $93.00      $450.00           NaN\n",
       "3816   $99.00          NaN           NaN\n",
       "3817   $87.00          NaN           NaN\n",
       "\n",
       "[3818 rows x 3 columns]"
      ]
     },
     "execution_count": 8,
     "metadata": {},
     "output_type": "execute_result"
    }
   ],
   "source": [
    "#prices \n",
    "listings[['price', 'weekly_price', 'monthly_price']]"
   ]
  },
  {
   "cell_type": "code",
   "execution_count": 9,
   "metadata": {},
   "outputs": [
    {
     "data": {
      "text/plain": [
       "neighbourhood_cleansed\n",
       "Adams                70\n",
       "Alki                 42\n",
       "Arbor Heights         5\n",
       "Atlantic             53\n",
       "Belltown            234\n",
       "                   ... \n",
       "West Woodland        64\n",
       "Westlake             17\n",
       "Whittier Heights     26\n",
       "Windermere           10\n",
       "Yesler Terrace       17\n",
       "Name: neighbourhood_cleansed, Length: 87, dtype: int64"
      ]
     },
     "execution_count": 9,
     "metadata": {},
     "output_type": "execute_result"
    }
   ],
   "source": [
    "# data avaiavle for the different neighbourhoods\n",
    "listings.groupby(['neighbourhood_cleansed'])['neighbourhood_cleansed'].count()"
   ]
  },
  {
   "cell_type": "code",
   "execution_count": 10,
   "metadata": {},
   "outputs": [
    {
     "data": {
      "text/html": [
       "<div>\n",
       "<style scoped>\n",
       "    .dataframe tbody tr th:only-of-type {\n",
       "        vertical-align: middle;\n",
       "    }\n",
       "\n",
       "    .dataframe tbody tr th {\n",
       "        vertical-align: top;\n",
       "    }\n",
       "\n",
       "    .dataframe thead th {\n",
       "        text-align: right;\n",
       "    }\n",
       "</style>\n",
       "<table border=\"1\" class=\"dataframe\">\n",
       "  <thead>\n",
       "    <tr style=\"text-align: right;\">\n",
       "      <th></th>\n",
       "      <th>listing_id</th>\n",
       "      <th>id</th>\n",
       "      <th>date</th>\n",
       "      <th>reviewer_id</th>\n",
       "      <th>reviewer_name</th>\n",
       "      <th>comments</th>\n",
       "    </tr>\n",
       "  </thead>\n",
       "  <tbody>\n",
       "    <tr>\n",
       "      <th>0</th>\n",
       "      <td>7202016</td>\n",
       "      <td>38917982</td>\n",
       "      <td>2015-07-19</td>\n",
       "      <td>28943674</td>\n",
       "      <td>Bianca</td>\n",
       "      <td>Cute and cozy place. Perfect location to every...</td>\n",
       "    </tr>\n",
       "    <tr>\n",
       "      <th>1</th>\n",
       "      <td>7202016</td>\n",
       "      <td>39087409</td>\n",
       "      <td>2015-07-20</td>\n",
       "      <td>32440555</td>\n",
       "      <td>Frank</td>\n",
       "      <td>Kelly has a great room in a very central locat...</td>\n",
       "    </tr>\n",
       "    <tr>\n",
       "      <th>2</th>\n",
       "      <td>7202016</td>\n",
       "      <td>39820030</td>\n",
       "      <td>2015-07-26</td>\n",
       "      <td>37722850</td>\n",
       "      <td>Ian</td>\n",
       "      <td>Very spacious apartment, and in a great neighb...</td>\n",
       "    </tr>\n",
       "    <tr>\n",
       "      <th>3</th>\n",
       "      <td>7202016</td>\n",
       "      <td>40813543</td>\n",
       "      <td>2015-08-02</td>\n",
       "      <td>33671805</td>\n",
       "      <td>George</td>\n",
       "      <td>Close to Seattle Center and all it has to offe...</td>\n",
       "    </tr>\n",
       "    <tr>\n",
       "      <th>4</th>\n",
       "      <td>7202016</td>\n",
       "      <td>41986501</td>\n",
       "      <td>2015-08-10</td>\n",
       "      <td>34959538</td>\n",
       "      <td>Ming</td>\n",
       "      <td>Kelly was a great host and very accommodating ...</td>\n",
       "    </tr>\n",
       "  </tbody>\n",
       "</table>\n",
       "</div>"
      ],
      "text/plain": [
       "   listing_id        id        date  reviewer_id reviewer_name  \\\n",
       "0     7202016  38917982  2015-07-19     28943674        Bianca   \n",
       "1     7202016  39087409  2015-07-20     32440555         Frank   \n",
       "2     7202016  39820030  2015-07-26     37722850           Ian   \n",
       "3     7202016  40813543  2015-08-02     33671805        George   \n",
       "4     7202016  41986501  2015-08-10     34959538          Ming   \n",
       "\n",
       "                                            comments  \n",
       "0  Cute and cozy place. Perfect location to every...  \n",
       "1  Kelly has a great room in a very central locat...  \n",
       "2  Very spacious apartment, and in a great neighb...  \n",
       "3  Close to Seattle Center and all it has to offe...  \n",
       "4  Kelly was a great host and very accommodating ...  "
      ]
     },
     "execution_count": 10,
     "metadata": {},
     "output_type": "execute_result"
    }
   ],
   "source": [
    "#read in data listings data\n",
    "reviews = pd.read_csv('seattle_airbnb_data/reviews.csv')\n",
    "reviews.head()"
   ]
  },
  {
   "cell_type": "markdown",
   "metadata": {},
   "source": [
    "## 3. Prepare Data"
   ]
  },
  {
   "cell_type": "markdown",
   "metadata": {},
   "source": [
    "### 3.1 Prepare data for Q_I How does the time of the year influence the price of listings?"
   ]
  },
  {
   "cell_type": "code",
   "execution_count": 11,
   "metadata": {},
   "outputs": [
    {
     "data": {
      "text/plain": [
       "listing_id     int64\n",
       "date          object\n",
       "available     object\n",
       "price         object\n",
       "dtype: object"
      ]
     },
     "execution_count": 11,
     "metadata": {},
     "output_type": "execute_result"
    }
   ],
   "source": [
    "#convert price column in 'calendar' to float (remove the dollar sign for that)\n",
    "calendar.dtypes"
   ]
  },
  {
   "cell_type": "code",
   "execution_count": 12,
   "metadata": {},
   "outputs": [],
   "source": [
    "calendar['price'] = calendar['price'].replace('[\\$,]', '', regex=True).astype(float)"
   ]
  },
  {
   "cell_type": "code",
   "execution_count": 13,
   "metadata": {},
   "outputs": [],
   "source": [
    "#split year / month / day in seperate colums\n",
    "calendar['year'] = pd.to_datetime(calendar['date']).dt.year\n",
    "calendar['month'] = pd.to_datetime(calendar['date']).dt.month\n",
    "calendar['day'] = pd.to_datetime(calendar['date']).dt.day"
   ]
  },
  {
   "cell_type": "code",
   "execution_count": 14,
   "metadata": {},
   "outputs": [
    {
     "data": {
      "text/plain": [
       "year\n",
       "2016    1385934\n",
       "2017       7636\n",
       "Name: year, dtype: int64"
      ]
     },
     "execution_count": 14,
     "metadata": {},
     "output_type": "execute_result"
    }
   ],
   "source": [
    "calendar.groupby(['year'])['year'].count() "
   ]
  },
  {
   "cell_type": "code",
   "execution_count": 15,
   "metadata": {},
   "outputs": [],
   "source": [
    "#there is also data from 2017 (-> filter for 2016) and price has nan values (removen nan values)\n",
    "calendar_Q1 = calendar[calendar['price'].notnull()]\n",
    "calendar_Q1 = calendar_Q1[calendar_Q1['year']==2016]"
   ]
  },
  {
   "cell_type": "code",
   "execution_count": 16,
   "metadata": {},
   "outputs": [
    {
     "data": {
      "text/html": [
       "<div>\n",
       "<style scoped>\n",
       "    .dataframe tbody tr th:only-of-type {\n",
       "        vertical-align: middle;\n",
       "    }\n",
       "\n",
       "    .dataframe tbody tr th {\n",
       "        vertical-align: top;\n",
       "    }\n",
       "\n",
       "    .dataframe thead th {\n",
       "        text-align: right;\n",
       "    }\n",
       "</style>\n",
       "<table border=\"1\" class=\"dataframe\">\n",
       "  <thead>\n",
       "    <tr style=\"text-align: right;\">\n",
       "      <th></th>\n",
       "      <th>listing_id</th>\n",
       "      <th>price</th>\n",
       "      <th>month</th>\n",
       "    </tr>\n",
       "  </thead>\n",
       "  <tbody>\n",
       "    <tr>\n",
       "      <th>0</th>\n",
       "      <td>241032</td>\n",
       "      <td>85.0</td>\n",
       "      <td>1</td>\n",
       "    </tr>\n",
       "    <tr>\n",
       "      <th>1</th>\n",
       "      <td>241032</td>\n",
       "      <td>85.0</td>\n",
       "      <td>1</td>\n",
       "    </tr>\n",
       "    <tr>\n",
       "      <th>9</th>\n",
       "      <td>241032</td>\n",
       "      <td>85.0</td>\n",
       "      <td>1</td>\n",
       "    </tr>\n",
       "    <tr>\n",
       "      <th>10</th>\n",
       "      <td>241032</td>\n",
       "      <td>85.0</td>\n",
       "      <td>1</td>\n",
       "    </tr>\n",
       "    <tr>\n",
       "      <th>14</th>\n",
       "      <td>241032</td>\n",
       "      <td>85.0</td>\n",
       "      <td>1</td>\n",
       "    </tr>\n",
       "  </tbody>\n",
       "</table>\n",
       "</div>"
      ],
      "text/plain": [
       "    listing_id  price  month\n",
       "0       241032   85.0      1\n",
       "1       241032   85.0      1\n",
       "9       241032   85.0      1\n",
       "10      241032   85.0      1\n",
       "14      241032   85.0      1"
      ]
     },
     "execution_count": 16,
     "metadata": {},
     "output_type": "execute_result"
    }
   ],
   "source": [
    "#remove not needed columns\n",
    "calendar_Q1 = calendar_Q1[['listing_id','price','month']]\n",
    "calendar_Q1.head()"
   ]
  },
  {
   "cell_type": "markdown",
   "metadata": {},
   "source": [
    "### 3.2 Prepare data for Q_III: How does the location influence the price of listings?"
   ]
  },
  {
   "cell_type": "code",
   "execution_count": 17,
   "metadata": {},
   "outputs": [],
   "source": [
    "#convert price column in 'listings' to float (remove the dollar sign for that) \n",
    "listings['price'] = listings['price'].replace('[\\$,]', '', regex=True).astype(float)"
   ]
  },
  {
   "cell_type": "code",
   "execution_count": 18,
   "metadata": {},
   "outputs": [
    {
     "data": {
      "text/plain": [
       "price                     0\n",
       "neighbourhood_cleansed    0\n",
       "dtype: int64"
      ]
     },
     "execution_count": 18,
     "metadata": {},
     "output_type": "execute_result"
    }
   ],
   "source": [
    "listings_Q2 = listings[['price','neighbourhood_cleansed']]\n",
    "listings_Q2.isnull().sum() #no data is missing"
   ]
  },
  {
   "cell_type": "code",
   "execution_count": 19,
   "metadata": {},
   "outputs": [
    {
     "data": {
      "text/html": [
       "<div>\n",
       "<style scoped>\n",
       "    .dataframe tbody tr th:only-of-type {\n",
       "        vertical-align: middle;\n",
       "    }\n",
       "\n",
       "    .dataframe tbody tr th {\n",
       "        vertical-align: top;\n",
       "    }\n",
       "\n",
       "    .dataframe thead th {\n",
       "        text-align: right;\n",
       "    }\n",
       "</style>\n",
       "<table border=\"1\" class=\"dataframe\">\n",
       "  <thead>\n",
       "    <tr style=\"text-align: right;\">\n",
       "      <th></th>\n",
       "      <th>price</th>\n",
       "      <th>neighbourhood_cleansed</th>\n",
       "    </tr>\n",
       "  </thead>\n",
       "  <tbody>\n",
       "    <tr>\n",
       "      <th>0</th>\n",
       "      <td>85.0</td>\n",
       "      <td>West Queen Anne</td>\n",
       "    </tr>\n",
       "    <tr>\n",
       "      <th>1</th>\n",
       "      <td>150.0</td>\n",
       "      <td>West Queen Anne</td>\n",
       "    </tr>\n",
       "    <tr>\n",
       "      <th>2</th>\n",
       "      <td>975.0</td>\n",
       "      <td>West Queen Anne</td>\n",
       "    </tr>\n",
       "    <tr>\n",
       "      <th>3</th>\n",
       "      <td>100.0</td>\n",
       "      <td>West Queen Anne</td>\n",
       "    </tr>\n",
       "    <tr>\n",
       "      <th>4</th>\n",
       "      <td>450.0</td>\n",
       "      <td>West Queen Anne</td>\n",
       "    </tr>\n",
       "  </tbody>\n",
       "</table>\n",
       "</div>"
      ],
      "text/plain": [
       "   price neighbourhood_cleansed\n",
       "0   85.0        West Queen Anne\n",
       "1  150.0        West Queen Anne\n",
       "2  975.0        West Queen Anne\n",
       "3  100.0        West Queen Anne\n",
       "4  450.0        West Queen Anne"
      ]
     },
     "execution_count": 19,
     "metadata": {},
     "output_type": "execute_result"
    }
   ],
   "source": [
    "listings_Q2.head()"
   ]
  },
  {
   "cell_type": "markdown",
   "metadata": {},
   "source": [
    "### 3.3 Prepare data for Q_III: How big is the discount for weekly and montly prices?"
   ]
  },
  {
   "cell_type": "code",
   "execution_count": 20,
   "metadata": {},
   "outputs": [],
   "source": [
    "#convert 'weekly_price' and 'monthly_price' column in 'listings' to float (remove the dollar sign for that) \n",
    "listings['weekly_price'] = listings['weekly_price'].replace('[\\$,]', '', regex=True).astype(float)\n",
    "listings['monthly_price'] = listings['monthly_price'].replace('[\\$,]', '', regex=True).astype(float)"
   ]
  },
  {
   "cell_type": "code",
   "execution_count": 21,
   "metadata": {},
   "outputs": [
    {
     "data": {
      "text/plain": [
       "id               3818\n",
       "price            3818\n",
       "weekly_price     2009\n",
       "monthly_price    1517\n",
       "dtype: int64"
      ]
     },
     "execution_count": 21,
     "metadata": {},
     "output_type": "execute_result"
    }
   ],
   "source": [
    "listings_Q3 = listings[['id','price']]#, 'weekly_price', 'monthly_price']]\n",
    "listings[['id','price', 'weekly_price', 'monthly_price']].count()\n",
    "# not all listings have weekly or montly prices"
   ]
  },
  {
   "cell_type": "code",
   "execution_count": 22,
   "metadata": {},
   "outputs": [
    {
     "data": {
      "text/html": [
       "<div>\n",
       "<style scoped>\n",
       "    .dataframe tbody tr th:only-of-type {\n",
       "        vertical-align: middle;\n",
       "    }\n",
       "\n",
       "    .dataframe tbody tr th {\n",
       "        vertical-align: top;\n",
       "    }\n",
       "\n",
       "    .dataframe thead th {\n",
       "        text-align: right;\n",
       "    }\n",
       "</style>\n",
       "<table border=\"1\" class=\"dataframe\">\n",
       "  <thead>\n",
       "    <tr style=\"text-align: right;\">\n",
       "      <th></th>\n",
       "      <th>id</th>\n",
       "      <th>price</th>\n",
       "      <th>weekly_price</th>\n",
       "      <th>monthly_price</th>\n",
       "    </tr>\n",
       "  </thead>\n",
       "  <tbody>\n",
       "    <tr>\n",
       "      <th>0</th>\n",
       "      <td>241032</td>\n",
       "      <td>85.0</td>\n",
       "      <td>NaN</td>\n",
       "      <td>NaN</td>\n",
       "    </tr>\n",
       "    <tr>\n",
       "      <th>1</th>\n",
       "      <td>953595</td>\n",
       "      <td>150.0</td>\n",
       "      <td>1000.0</td>\n",
       "      <td>3000.0</td>\n",
       "    </tr>\n",
       "    <tr>\n",
       "      <th>2</th>\n",
       "      <td>3308979</td>\n",
       "      <td>975.0</td>\n",
       "      <td>NaN</td>\n",
       "      <td>NaN</td>\n",
       "    </tr>\n",
       "    <tr>\n",
       "      <th>3</th>\n",
       "      <td>7421966</td>\n",
       "      <td>100.0</td>\n",
       "      <td>650.0</td>\n",
       "      <td>2300.0</td>\n",
       "    </tr>\n",
       "    <tr>\n",
       "      <th>4</th>\n",
       "      <td>278830</td>\n",
       "      <td>450.0</td>\n",
       "      <td>NaN</td>\n",
       "      <td>NaN</td>\n",
       "    </tr>\n",
       "  </tbody>\n",
       "</table>\n",
       "</div>"
      ],
      "text/plain": [
       "        id  price  weekly_price  monthly_price\n",
       "0   241032   85.0           NaN            NaN\n",
       "1   953595  150.0        1000.0         3000.0\n",
       "2  3308979  975.0           NaN            NaN\n",
       "3  7421966  100.0         650.0         2300.0\n",
       "4   278830  450.0           NaN            NaN"
      ]
     },
     "execution_count": 22,
     "metadata": {},
     "output_type": "execute_result"
    }
   ],
   "source": [
    "listings[['id','price', 'weekly_price', 'monthly_price']].head()"
   ]
  },
  {
   "cell_type": "code",
   "execution_count": 23,
   "metadata": {},
   "outputs": [],
   "source": [
    "# fill missing values by price times seven (seven days per week)\n",
    "weekly_price_filled = listings['weekly_price'].fillna(listings['price']*7)\n",
    "listings_Q3 = listings_Q3.join(weekly_price_filled)"
   ]
  },
  {
   "cell_type": "code",
   "execution_count": 24,
   "metadata": {},
   "outputs": [],
   "source": [
    "# fill missing values by weekly price times 52/12 (52 weeks in 12 months)\n",
    "montly_price_filled = listings['monthly_price'].fillna(listings_Q3['weekly_price']*52/12.0)\n",
    "listings_Q3 = listings_Q3.join(montly_price_filled)"
   ]
  },
  {
   "cell_type": "code",
   "execution_count": 25,
   "metadata": {},
   "outputs": [],
   "source": [
    "# calculate prices without discount for comparison\n",
    "weekly_price_no_discount = listings_Q3['price']*7 #7days per week\n",
    "listings_Q3.loc[:,'weekly_price_no_discount'] = weekly_price_no_discount\n",
    "monthly_price_no_discount = listings_Q3['price']*7*52/12.0 #7days per week, 52 weeks per year, 12 month per year\n",
    "listings_Q3.loc[:,'monthly_price_no_discount'] = monthly_price_no_discount"
   ]
  },
  {
   "cell_type": "code",
   "execution_count": 26,
   "metadata": {},
   "outputs": [],
   "source": [
    "listings_Q3.loc[:,'weekly_discount_rate'] = listings_Q3['weekly_price']/listings_Q3['weekly_price_no_discount']"
   ]
  },
  {
   "cell_type": "code",
   "execution_count": 27,
   "metadata": {},
   "outputs": [],
   "source": [
    "listings_Q3.loc[:,'monthly_discount_rate'] = listings_Q3['monthly_price']/listings_Q3['monthly_price_no_discount']"
   ]
  },
  {
   "cell_type": "code",
   "execution_count": 28,
   "metadata": {},
   "outputs": [],
   "source": [
    "#create bins and bis_lanbls for more meaningful grouping and plot\n",
    "bin_size = 100\n",
    "bins = (listings_Q3['price']/bin_size).astype(int)\n",
    "# limit bin numbers to ten\n",
    "bins[bins>9] = 10\n",
    "listings_Q3['bins'] = bins.astype(int)\n",
    "#prepare meaningful labels for plot\n",
    "bin_labels ={0: 'price<100',1: '100<=price<200',2: '200<=price<300',3: '300<=price<400',\n",
    "         4: '400<=price<500',5: '500<=price<600',6: '600<=price<700',7: '700<=price<800',\n",
    "         8: '800<=price<900',9: '800<=price<900',10: '1000<=price'}\n",
    "listings_Q3.sort_values(by='bins',ascending=True,inplace=True)"
   ]
  },
  {
   "cell_type": "code",
   "execution_count": 29,
   "metadata": {},
   "outputs": [
    {
     "data": {
      "text/html": [
       "<div>\n",
       "<style scoped>\n",
       "    .dataframe tbody tr th:only-of-type {\n",
       "        vertical-align: middle;\n",
       "    }\n",
       "\n",
       "    .dataframe tbody tr th {\n",
       "        vertical-align: top;\n",
       "    }\n",
       "\n",
       "    .dataframe thead th {\n",
       "        text-align: right;\n",
       "    }\n",
       "</style>\n",
       "<table border=\"1\" class=\"dataframe\">\n",
       "  <thead>\n",
       "    <tr style=\"text-align: right;\">\n",
       "      <th></th>\n",
       "      <th>id</th>\n",
       "      <th>price</th>\n",
       "      <th>weekly_price</th>\n",
       "      <th>monthly_price</th>\n",
       "      <th>weekly_price_no_discount</th>\n",
       "      <th>monthly_price_no_discount</th>\n",
       "      <th>weekly_discount_rate</th>\n",
       "      <th>monthly_discount_rate</th>\n",
       "      <th>bins</th>\n",
       "    </tr>\n",
       "  </thead>\n",
       "  <tbody>\n",
       "    <tr>\n",
       "      <th>0</th>\n",
       "      <td>241032</td>\n",
       "      <td>85.0</td>\n",
       "      <td>595.0</td>\n",
       "      <td>2578.333333</td>\n",
       "      <td>595.0</td>\n",
       "      <td>2578.333333</td>\n",
       "      <td>1.000000</td>\n",
       "      <td>1.000000</td>\n",
       "      <td>0</td>\n",
       "    </tr>\n",
       "    <tr>\n",
       "      <th>2236</th>\n",
       "      <td>2721575</td>\n",
       "      <td>95.0</td>\n",
       "      <td>595.0</td>\n",
       "      <td>2578.333333</td>\n",
       "      <td>665.0</td>\n",
       "      <td>2881.666667</td>\n",
       "      <td>0.894737</td>\n",
       "      <td>0.894737</td>\n",
       "      <td>0</td>\n",
       "    </tr>\n",
       "    <tr>\n",
       "      <th>2237</th>\n",
       "      <td>1738425</td>\n",
       "      <td>72.0</td>\n",
       "      <td>329.0</td>\n",
       "      <td>1199.000000</td>\n",
       "      <td>504.0</td>\n",
       "      <td>2184.000000</td>\n",
       "      <td>0.652778</td>\n",
       "      <td>0.548993</td>\n",
       "      <td>0</td>\n",
       "    </tr>\n",
       "    <tr>\n",
       "      <th>2239</th>\n",
       "      <td>6078382</td>\n",
       "      <td>55.0</td>\n",
       "      <td>385.0</td>\n",
       "      <td>2700.000000</td>\n",
       "      <td>385.0</td>\n",
       "      <td>1668.333333</td>\n",
       "      <td>1.000000</td>\n",
       "      <td>1.618382</td>\n",
       "      <td>0</td>\n",
       "    </tr>\n",
       "    <tr>\n",
       "      <th>2240</th>\n",
       "      <td>7585688</td>\n",
       "      <td>65.0</td>\n",
       "      <td>375.0</td>\n",
       "      <td>1350.000000</td>\n",
       "      <td>455.0</td>\n",
       "      <td>1971.666667</td>\n",
       "      <td>0.824176</td>\n",
       "      <td>0.684700</td>\n",
       "      <td>0</td>\n",
       "    </tr>\n",
       "  </tbody>\n",
       "</table>\n",
       "</div>"
      ],
      "text/plain": [
       "           id  price  weekly_price  monthly_price  weekly_price_no_discount  \\\n",
       "0      241032   85.0         595.0    2578.333333                     595.0   \n",
       "2236  2721575   95.0         595.0    2578.333333                     665.0   \n",
       "2237  1738425   72.0         329.0    1199.000000                     504.0   \n",
       "2239  6078382   55.0         385.0    2700.000000                     385.0   \n",
       "2240  7585688   65.0         375.0    1350.000000                     455.0   \n",
       "\n",
       "      monthly_price_no_discount  weekly_discount_rate  monthly_discount_rate  \\\n",
       "0                   2578.333333              1.000000               1.000000   \n",
       "2236                2881.666667              0.894737               0.894737   \n",
       "2237                2184.000000              0.652778               0.548993   \n",
       "2239                1668.333333              1.000000               1.618382   \n",
       "2240                1971.666667              0.824176               0.684700   \n",
       "\n",
       "      bins  \n",
       "0        0  \n",
       "2236     0  \n",
       "2237     0  \n",
       "2239     0  \n",
       "2240     0  "
      ]
     },
     "execution_count": 29,
     "metadata": {},
     "output_type": "execute_result"
    }
   ],
   "source": [
    "listings_Q3.head()"
   ]
  },
  {
   "cell_type": "markdown",
   "metadata": {},
   "source": [
    "## 4. Data Modeling"
   ]
  },
  {
   "cell_type": "markdown",
   "metadata": {},
   "source": [
    "### 4.1 model data for Q_I: How does the time of the year influence the price of listings?"
   ]
  },
  {
   "cell_type": "code",
   "execution_count": 30,
   "metadata": {},
   "outputs": [
    {
     "data": {
      "text/html": [
       "<div>\n",
       "<style scoped>\n",
       "    .dataframe tbody tr th:only-of-type {\n",
       "        vertical-align: middle;\n",
       "    }\n",
       "\n",
       "    .dataframe tbody tr th {\n",
       "        vertical-align: top;\n",
       "    }\n",
       "\n",
       "    .dataframe thead th {\n",
       "        text-align: right;\n",
       "    }\n",
       "</style>\n",
       "<table border=\"1\" class=\"dataframe\">\n",
       "  <thead>\n",
       "    <tr style=\"text-align: right;\">\n",
       "      <th>month</th>\n",
       "      <th>1</th>\n",
       "      <th>2</th>\n",
       "      <th>3</th>\n",
       "      <th>4</th>\n",
       "      <th>5</th>\n",
       "      <th>6</th>\n",
       "      <th>7</th>\n",
       "      <th>8</th>\n",
       "      <th>9</th>\n",
       "      <th>10</th>\n",
       "      <th>11</th>\n",
       "      <th>12</th>\n",
       "    </tr>\n",
       "    <tr>\n",
       "      <th>listing_id</th>\n",
       "      <th></th>\n",
       "      <th></th>\n",
       "      <th></th>\n",
       "      <th></th>\n",
       "      <th></th>\n",
       "      <th></th>\n",
       "      <th></th>\n",
       "      <th></th>\n",
       "      <th></th>\n",
       "      <th></th>\n",
       "      <th></th>\n",
       "      <th></th>\n",
       "    </tr>\n",
       "  </thead>\n",
       "  <tbody>\n",
       "    <tr>\n",
       "      <th>4291</th>\n",
       "      <td>82.0</td>\n",
       "      <td>82.0</td>\n",
       "      <td>82.0</td>\n",
       "      <td>82.0</td>\n",
       "      <td>82.0</td>\n",
       "      <td>82.0</td>\n",
       "      <td>82.0</td>\n",
       "      <td>82.0</td>\n",
       "      <td>82.0</td>\n",
       "      <td>82.0</td>\n",
       "      <td>82.0</td>\n",
       "      <td>82.0</td>\n",
       "    </tr>\n",
       "    <tr>\n",
       "      <th>5682</th>\n",
       "      <td>50.0</td>\n",
       "      <td>54.0</td>\n",
       "      <td>53.0</td>\n",
       "      <td>53.0</td>\n",
       "      <td>56.0</td>\n",
       "      <td>60.0</td>\n",
       "      <td>60.0</td>\n",
       "      <td>60.0</td>\n",
       "      <td>50.0</td>\n",
       "      <td>48.0</td>\n",
       "      <td>48.0</td>\n",
       "      <td>48.0</td>\n",
       "    </tr>\n",
       "    <tr>\n",
       "      <th>6606</th>\n",
       "      <td>90.0</td>\n",
       "      <td>90.0</td>\n",
       "      <td>90.0</td>\n",
       "      <td>90.0</td>\n",
       "      <td>90.0</td>\n",
       "      <td>90.0</td>\n",
       "      <td>90.0</td>\n",
       "      <td>90.0</td>\n",
       "      <td>90.0</td>\n",
       "      <td>90.0</td>\n",
       "      <td>90.0</td>\n",
       "      <td>90.0</td>\n",
       "    </tr>\n",
       "    <tr>\n",
       "      <th>9419</th>\n",
       "      <td>70.0</td>\n",
       "      <td>70.0</td>\n",
       "      <td>70.0</td>\n",
       "      <td>70.0</td>\n",
       "      <td>90.0</td>\n",
       "      <td>90.0</td>\n",
       "      <td>90.0</td>\n",
       "      <td>90.0</td>\n",
       "      <td>90.0</td>\n",
       "      <td>90.0</td>\n",
       "      <td>90.0</td>\n",
       "      <td>90.0</td>\n",
       "    </tr>\n",
       "    <tr>\n",
       "      <th>9596</th>\n",
       "      <td>120.0</td>\n",
       "      <td>120.0</td>\n",
       "      <td>120.0</td>\n",
       "      <td>120.0</td>\n",
       "      <td>120.0</td>\n",
       "      <td>120.0</td>\n",
       "      <td>120.0</td>\n",
       "      <td>120.0</td>\n",
       "      <td>120.0</td>\n",
       "      <td>120.0</td>\n",
       "      <td>120.0</td>\n",
       "      <td>120.0</td>\n",
       "    </tr>\n",
       "  </tbody>\n",
       "</table>\n",
       "</div>"
      ],
      "text/plain": [
       "month          1      2      3      4      5      6      7      8      9   \\\n",
       "listing_id                                                                  \n",
       "4291         82.0   82.0   82.0   82.0   82.0   82.0   82.0   82.0   82.0   \n",
       "5682         50.0   54.0   53.0   53.0   56.0   60.0   60.0   60.0   50.0   \n",
       "6606         90.0   90.0   90.0   90.0   90.0   90.0   90.0   90.0   90.0   \n",
       "9419         70.0   70.0   70.0   70.0   90.0   90.0   90.0   90.0   90.0   \n",
       "9596        120.0  120.0  120.0  120.0  120.0  120.0  120.0  120.0  120.0   \n",
       "\n",
       "month          10     11     12  \n",
       "listing_id                       \n",
       "4291         82.0   82.0   82.0  \n",
       "5682         48.0   48.0   48.0  \n",
       "6606         90.0   90.0   90.0  \n",
       "9419         90.0   90.0   90.0  \n",
       "9596        120.0  120.0  120.0  "
      ]
     },
     "execution_count": 30,
     "metadata": {},
     "output_type": "execute_result"
    }
   ],
   "source": [
    "#get median price per listing and month\n",
    "price_per_id_and_month = calendar_Q1.groupby(['listing_id','month'])['price'].median().unstack()\n",
    "#only consinder listings, that have at least one price for each month\n",
    "price_per_id_and_month.dropna(inplace=True)\n",
    "price_per_id_and_month.head()"
   ]
  },
  {
   "cell_type": "markdown",
   "metadata": {},
   "source": [
    "### 4.2 model data for Q_II: How does the location influence the price of listings?"
   ]
  },
  {
   "cell_type": "code",
   "execution_count": 31,
   "metadata": {},
   "outputs": [
    {
     "data": {
      "text/html": [
       "<div>\n",
       "<style scoped>\n",
       "    .dataframe tbody tr th:only-of-type {\n",
       "        vertical-align: middle;\n",
       "    }\n",
       "\n",
       "    .dataframe tbody tr th {\n",
       "        vertical-align: top;\n",
       "    }\n",
       "\n",
       "    .dataframe thead th {\n",
       "        text-align: right;\n",
       "    }\n",
       "</style>\n",
       "<table border=\"1\" class=\"dataframe\">\n",
       "  <thead>\n",
       "    <tr style=\"text-align: right;\">\n",
       "      <th></th>\n",
       "      <th>price</th>\n",
       "    </tr>\n",
       "    <tr>\n",
       "      <th>neighbourhood_cleansed</th>\n",
       "      <th></th>\n",
       "    </tr>\n",
       "  </thead>\n",
       "  <tbody>\n",
       "    <tr>\n",
       "      <th>Briarcliff</th>\n",
       "      <td>173.5</td>\n",
       "    </tr>\n",
       "    <tr>\n",
       "      <th>Pioneer Square</th>\n",
       "      <td>150.0</td>\n",
       "    </tr>\n",
       "    <tr>\n",
       "      <th>Westlake</th>\n",
       "      <td>150.0</td>\n",
       "    </tr>\n",
       "    <tr>\n",
       "      <th>Industrial District</th>\n",
       "      <td>150.0</td>\n",
       "    </tr>\n",
       "    <tr>\n",
       "      <th>Southeast Magnolia</th>\n",
       "      <td>150.0</td>\n",
       "    </tr>\n",
       "  </tbody>\n",
       "</table>\n",
       "</div>"
      ],
      "text/plain": [
       "                        price\n",
       "neighbourhood_cleansed       \n",
       "Briarcliff              173.5\n",
       "Pioneer Square          150.0\n",
       "Westlake                150.0\n",
       "Industrial District     150.0\n",
       "Southeast Magnolia      150.0"
      ]
     },
     "execution_count": 31,
     "metadata": {},
     "output_type": "execute_result"
    }
   ],
   "source": [
    "price_per_id_and_location = listings_Q2.groupby('neighbourhood_cleansed').median()\n",
    "price_per_id_and_location.sort_values(by='price',ascending=False,inplace=True)\n",
    "price_per_id_and_location.head()"
   ]
  },
  {
   "cell_type": "markdown",
   "metadata": {},
   "source": [
    "### 4.3 model data for Q_III: How big is the discount for weekly and montly prices?"
   ]
  },
  {
   "cell_type": "code",
   "execution_count": 32,
   "metadata": {},
   "outputs": [
    {
     "data": {
      "text/plain": [
       "bins\n",
       "0    1.0\n",
       "1    1.0\n",
       "2    1.0\n",
       "3    1.0\n",
       "4    1.0\n",
       "Name: weekly_discount_rate, dtype: float64"
      ]
     },
     "execution_count": 32,
     "metadata": {},
     "output_type": "execute_result"
    }
   ],
   "source": [
    "weekly_discount_by_price = listings_Q3.groupby(['bins'])['weekly_discount_rate'].median()\n",
    "#weekly_discount_by_price['bins_labels'] = weekly_discount_by_price['bins'].map(labels)\n",
    "weekly_discount_by_price.head()"
   ]
  },
  {
   "cell_type": "code",
   "execution_count": 33,
   "metadata": {},
   "outputs": [
    {
     "data": {
      "text/plain": [
       "bins\n",
       "price<100         1.0\n",
       "100<=price<200    1.0\n",
       "200<=price<300    1.0\n",
       "300<=price<400    1.0\n",
       "400<=price<500    1.0\n",
       "Name: weekly_discount_rate, dtype: float64"
      ]
     },
     "execution_count": 33,
     "metadata": {},
     "output_type": "execute_result"
    }
   ],
   "source": [
    "#use label names instead of bin numbers\n",
    "weekly_discount_by_price = weekly_discount_by_price.rename(index=bin_labels)\n",
    "weekly_discount_by_price.head()"
   ]
  },
  {
   "cell_type": "code",
   "execution_count": 34,
   "metadata": {},
   "outputs": [
    {
     "data": {
      "text/plain": [
       "bins\n",
       "0    1.0\n",
       "1    1.0\n",
       "2    1.0\n",
       "3    1.0\n",
       "4    1.0\n",
       "Name: monthly_discount_rate, dtype: float64"
      ]
     },
     "execution_count": 34,
     "metadata": {},
     "output_type": "execute_result"
    }
   ],
   "source": [
    "monthly_discount_by_price = listings_Q3.groupby(['bins'])['monthly_discount_rate'].median()\n",
    "monthly_discount_by_price.head()"
   ]
  },
  {
   "cell_type": "code",
   "execution_count": 35,
   "metadata": {},
   "outputs": [
    {
     "data": {
      "text/plain": [
       "bins\n",
       "price<100         1.0\n",
       "100<=price<200    1.0\n",
       "200<=price<300    1.0\n",
       "300<=price<400    1.0\n",
       "400<=price<500    1.0\n",
       "Name: monthly_discount_rate, dtype: float64"
      ]
     },
     "execution_count": 35,
     "metadata": {},
     "output_type": "execute_result"
    }
   ],
   "source": [
    "#use label names instead of bin numbers\n",
    "monthly_discount_by_price = monthly_discount_by_price.rename(index=bin_labels)\n",
    "monthly_discount_by_price.head()"
   ]
  },
  {
   "cell_type": "markdown",
   "metadata": {},
   "source": [
    "## 5. Evaluate the Results"
   ]
  },
  {
   "cell_type": "markdown",
   "metadata": {},
   "source": [
    "### 5.1 evaluate results for Q_I How does the time of the year influence the price of listings?"
   ]
  },
  {
   "cell_type": "code",
   "execution_count": 36,
   "metadata": {},
   "outputs": [
    {
     "data": {
      "image/png": "[encoded data removed]",
      "text/plain": [
       "<Figure size 432x288 with 1 Axes>"
      ]
     },
     "metadata": {
      "needs_background": "light"
     },
     "output_type": "display_data"
    }
   ],
   "source": [
    "# plot median price per month\n",
    "price_per_id_and_month.median().plot(kind='bar')\n",
    "plt.title('Median listing price per month\\n(for listings available in each month)')\n",
    "plt.grid(True)\n",
    "plt.ylabel('price in $')\n",
    "plt.ylim((90,115))\n",
    "plt.savefig('plots/plot_Q1_median_price_per_month.png', dpi=600)"
   ]
  },
  {
   "cell_type": "markdown",
   "metadata": {},
   "source": [
    "### 5.2 evaluate results for Q_II: How does the location influence the price of listings?"
   ]
  },
  {
   "cell_type": "code",
   "execution_count": 37,
   "metadata": {},
   "outputs": [
    {
     "data": {
      "image/png": "[encoded data removed]",
      "text/plain": [
       "<Figure size 432x288 with 1 Axes>"
      ]
     },
     "metadata": {
      "needs_background": "light"
     },
     "output_type": "display_data"
    }
   ],
   "source": [
    "# plot top 10 median prices\n",
    "price_per_id_and_location.head(10).plot(kind='bar',legend=None)\n",
    "plt.title('Top 10 median listing price per neighbourhood')\n",
    "plt.xlabel('neighbourhood')\n",
    "plt.grid(True)\n",
    "plt.ylabel('price in $')\n",
    "plt.ylim((0,200))\n",
    "#plt.tight_layout()\n",
    "plt.savefig('plots/plot_Q2_top10_median_prices_per_neighbourhood.png', dpi=600, bbox_inches=\"tight\")"
   ]
  },
  {
   "cell_type": "code",
   "execution_count": 38,
   "metadata": {},
   "outputs": [
    {
     "data": {
      "image/png": "[encoded data removed]",
      "text/plain": [
       "<Figure size 432x288 with 1 Axes>"
      ]
     },
     "metadata": {
      "needs_background": "light"
     },
     "output_type": "display_data"
    }
   ],
   "source": [
    "# plot bottom 10 median prices\n",
    "price_per_id_and_location.tail(10).plot(kind='bar',legend=None)\n",
    "plt.title('Bottom 10 median listing price per neighbourhood')\n",
    "plt.xlabel('neighbourhood')\n",
    "plt.grid(True)\n",
    "plt.ylabel('price in $')\n",
    "plt.ylim((0,100))\n",
    "plt.savefig('plots/plot_Q2_bottom10_median_prices_per_neighbourhood.png', dpi=600, bbox_inches=\"tight\")"
   ]
  },
  {
   "cell_type": "markdown",
   "metadata": {},
   "source": [
    "### 5.3 evaluate results for Q_III: How big is the discount for weekly and montly prices?"
   ]
  },
  {
   "cell_type": "code",
   "execution_count": 39,
   "metadata": {},
   "outputs": [
    {
     "data": {
      "image/png": "[encoded data removed]",
      "text/plain": [
       "<Figure size 432x288 with 1 Axes>"
      ]
     },
     "metadata": {
      "needs_background": "light"
     },
     "output_type": "display_data"
    }
   ],
   "source": [
    "#plot discount for weekly rents\n",
    "weekly_discount_by_price.plot(kind='bar')\n",
    "plt.title('Price reduction for weekly rents')\n",
    "plt.xlabel('normal price in $')\n",
    "plt.ylabel('weekly price compared to normal price')\n",
    "plt.grid(True)\n",
    "plt.ylim([0.8, 1.01])\n",
    "plt.yticks(np.arange(0.8,1.01,0.05))\n",
    "plt.savefig('plots/plot_Q3_price_reduction_for_weekly_rents.png', dpi=600, bbox_inches=\"tight\")"
   ]
  },
  {
   "cell_type": "code",
   "execution_count": 40,
   "metadata": {
    "scrolled": true
   },
   "outputs": [
    {
     "data": {
      "image/png": "[encoded data removed]",
      "text/plain": [
       "<Figure size 432x288 with 1 Axes>"
      ]
     },
     "metadata": {
      "needs_background": "light"
     },
     "output_type": "display_data"
    }
   ],
   "source": [
    "#plot discount for monthly rents\n",
    "monthly_discount_by_price.plot(kind='bar')\n",
    "plt.title('Price reduction for monthly rents')\n",
    "plt.xlabel('normal price in $')\n",
    "plt.ylabel('monthly price compared to normal price')\n",
    "plt.grid(True)\n",
    "plt.ylim([0.4, 1.01])\n",
    "plt.yticks(np.arange(0.4,1.01,0.05))\n",
    "plt.savefig('plots/plot_Q3_price_reduction_for_monthly_rents.png', dpi=600, bbox_inches=\"tight\")"
   ]
  },
  {
   "cell_type": "markdown",
   "metadata": {},
   "source": [
    "## 6. Deploy"
   ]
  },
  {
   "cell_type": "code",
   "execution_count": 41,
   "metadata": {},
   "outputs": [],
   "source": [
    "#upload fiels and code to github, write article"
   ]
  },
  {
   "cell_type": "code",
   "execution_count": null,
   "metadata": {},
   "outputs": [],
   "source": []
  }
 ],
 "metadata": {
  "kernelspec": {
   "display_name": "Python 3",
   "language": "python",
   "name": "python3"
  },
  "language_info": {
   "codemirror_mode": {
    "name": "ipython",
    "version": 3
   },
   "file_extension": ".py",
   "mimetype": "text/x-python",
   "name": "python",
   "nbconvert_exporter": "python",
   "pygments_lexer": "ipython3",
   "version": "3.8.5"
  }
 },
 "nbformat": 4,
 "nbformat_minor": 4
}
